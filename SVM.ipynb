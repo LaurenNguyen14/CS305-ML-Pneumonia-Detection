{
 "cells": [
  {
   "cell_type": "code",
   "execution_count": 6,
   "metadata": {},
   "outputs": [],
   "source": [
    "\n",
    "import numpy as np\n",
    "import os\n",
    "from pathlib import Path\n",
    "\n",
    "import matplotlib.pyplot as plt\n",
    "from keras.preprocessing import image\n",
    "\n",
    "p = Path(\"train/\")\n",
    "dirs = p.glob(\"*\")\n",
    "labels_dict = {'PNEUMONIA':0, 'NORMAL':1}\n",
    "\n",
    "image_data = []\n",
    "labels = []    \n",
    "\n",
    "for folder_dir in dirs:\n",
    "    label = str(folder_dir).split(\"/\")[-1][:len(str(folder_dir))]\n",
    "    \n",
    "    for img_path in folder_dir.glob(\"*.jpeg\"):\n",
    "        img = image.load_img(img_path, target_size=(32,32))\n",
    "        img_array = image.img_to_array(img)\n",
    "        image_data.append(img_array)\n",
    "        labels.append(labels_dict[label])"
   ]
  },
  {
   "cell_type": "code",
   "execution_count": 7,
   "metadata": {},
   "outputs": [
    {
     "name": "stdout",
     "output_type": "stream",
     "text": [
      "5206\n",
      "5206\n"
     ]
    }
   ],
   "source": [
    "print(len(labels))\n",
    "print(len(image_data))"
   ]
  },
  {
   "cell_type": "code",
   "execution_count": null,
   "metadata": {},
   "outputs": [],
   "source": []
  }
 ],
 "metadata": {
  "kernelspec": {
   "display_name": "Python 3",
   "language": "python",
   "name": "python3"
  },
  "language_info": {
   "codemirror_mode": {
    "name": "ipython",
    "version": 3
   },
   "file_extension": ".py",
   "mimetype": "text/x-python",
   "name": "python",
   "nbconvert_exporter": "python",
   "pygments_lexer": "ipython3",
   "version": "3.7.3"
  }
 },
 "nbformat": 4,
 "nbformat_minor": 2
}
