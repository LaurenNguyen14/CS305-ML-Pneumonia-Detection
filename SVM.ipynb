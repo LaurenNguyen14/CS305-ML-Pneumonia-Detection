{
 "cells": [
  {
   "cell_type": "code",
   "execution_count": 2,
   "metadata": {},
   "outputs": [
    {
     "name": "stderr",
     "output_type": "stream",
     "text": [
      "Using TensorFlow backend.\n"
     ]
    }
   ],
   "source": [
    "\n",
    "import numpy as np\n",
    "import os\n",
    "from pathlib import Path\n",
    "\n",
    "import matplotlib.pyplot as plt\n",
    "from keras.preprocessing import image\n",
    "\n",
    "p = Path(\"train/\")\n",
    "dirs = p.glob(\"*\")\n",
    "labels_dict = {'PNEUMONIA':0, 'NORMAL':1}\n",
    "\n",
    "image_data = []\n",
    "labels = []    \n",
    "\n",
    "for folder_dir in dirs:\n",
    "    label = str(folder_dir).split(\"/\")[-1][:len(str(folder_dir))]\n",
    "    \n",
    "    for img_path in folder_dir.glob(\"*.jpeg\"):\n",
    "        img = image.load_img(img_path, target_size=(32,32))\n",
    "        img_array = image.img_to_array(img)\n",
    "        image_data.append(img_array)\n",
    "        labels.append(labels_dict[label])"
   ]
  },
  {
   "cell_type": "code",
   "execution_count": 3,
   "metadata": {},
   "outputs": [
    {
     "name": "stdout",
     "output_type": "stream",
     "text": [
      "5216\n",
      "5216\n"
     ]
    }
   ],
   "source": [
    "print(len(labels))\n",
    "print(len(image_data))"
   ]
  },
  {
   "cell_type": "code",
   "execution_count": 5,
   "metadata": {},
   "outputs": [
    {
     "name": "stdout",
     "output_type": "stream",
     "text": [
      "(5216, 32, 32, 3) (5216,)\n",
      "[[[[3.1218762e-03 3.1218762e-03 3.1218762e-03]\n",
      "   [2.0453674e-03 2.0453674e-03 2.0453674e-03]\n",
      "   [7.2279893e-04 7.2279893e-04 7.2279893e-04]\n",
      "   ...\n",
      "   [7.0742023e-04 7.0742023e-04 7.0742023e-04]\n",
      "   [2.3221839e-03 2.3221839e-03 2.3221839e-03]\n",
      "   [3.1526336e-03 3.1526336e-03 3.1526336e-03]]\n",
      "\n",
      "  [[3.1218762e-03 3.1218762e-03 3.1218762e-03]\n",
      "   [1.6916571e-03 1.6916571e-03 1.6916571e-03]\n",
      "   [4.7673972e-04 4.7673972e-04 4.7673972e-04]\n",
      "   ...\n",
      "   [6.3052675e-04 6.3052675e-04 6.3052675e-04]\n",
      "   [2.3221839e-03 2.3221839e-03 2.3221839e-03]\n",
      "   [3.0449827e-03 3.0449827e-03 3.0449827e-03]]\n",
      "\n",
      "  [[3.0911188e-03 3.0911188e-03 3.0911188e-03]\n",
      "   [1.7070358e-03 1.7070358e-03 1.7070358e-03]\n",
      "   [6.9204153e-04 6.9204153e-04 6.9204153e-04]\n",
      "   ...\n",
      "   [3.6908881e-04 3.6908881e-04 3.6908881e-04]\n",
      "   [1.7685506e-03 1.7685506e-03 1.7685506e-03]\n",
      "   [3.0142253e-03 3.0142253e-03 3.0142253e-03]]\n",
      "\n",
      "  ...\n",
      "\n",
      "  [[1.6916571e-04 1.6916571e-04 1.6916571e-04]\n",
      "   [9.5347944e-04 9.5347944e-04 9.5347944e-04]\n",
      "   [1.9377163e-03 1.9377163e-03 1.9377163e-03]\n",
      "   ...\n",
      "   [5.0749717e-04 5.0749717e-04 5.0749717e-04]\n",
      "   [8.1507111e-04 8.1507111e-04 8.1507111e-04]\n",
      "   [9.8423695e-04 9.8423695e-04 9.8423695e-04]]\n",
      "\n",
      "  [[1.8454441e-04 1.8454441e-04 1.8454441e-04]\n",
      "   [1.1072665e-03 1.1072665e-03 1.1072665e-03]\n",
      "   [1.8608228e-03 1.8608228e-03 1.8608228e-03]\n",
      "   ...\n",
      "   [3.8446751e-04 3.8446751e-04 3.8446751e-04]\n",
      "   [6.9204153e-04 6.9204153e-04 6.9204153e-04]\n",
      "   [9.2272204e-04 9.2272204e-04 9.2272204e-04]]\n",
      "\n",
      "  [[1.3840832e-04 1.3840832e-04 1.3840832e-04]\n",
      "   [1.1380239e-03 1.1380239e-03 1.1380239e-03]\n",
      "   [2.0453674e-03 2.0453674e-03 2.0453674e-03]\n",
      "   ...\n",
      "   [1.6916571e-04 1.6916571e-04 1.6916571e-04]\n",
      "   [5.0749717e-04 5.0749717e-04 5.0749717e-04]\n",
      "   [7.5355632e-04 7.5355632e-04 7.5355632e-04]]]\n",
      "\n",
      "\n",
      " [[[3.6908881e-04 3.6908881e-04 3.6908881e-04]\n",
      "   [8.7658595e-04 8.7658595e-04 8.7658595e-04]\n",
      "   [9.6885813e-04 9.6885813e-04 9.6885813e-04]\n",
      "   ...\n",
      "   [1.0149943e-03 1.0149943e-03 1.0149943e-03]\n",
      "   [1.1380239e-03 1.1380239e-03 1.1380239e-03]\n",
      "   [8.4582856e-04 8.4582856e-04 8.4582856e-04]]\n",
      "\n",
      "  [[5.6901196e-04 5.6901196e-04 5.6901196e-04]\n",
      "   [9.8423695e-04 9.8423695e-04 9.8423695e-04]\n",
      "   [1.5378700e-03 1.5378700e-03 1.5378700e-03]\n",
      "   ...\n",
      "   [1.0457517e-03 1.0457517e-03 1.0457517e-03]\n",
      "   [1.2456748e-03 1.2456748e-03 1.2456748e-03]\n",
      "   [1.2610535e-03 1.2610535e-03 1.2610535e-03]]\n",
      "\n",
      "  [[7.5355632e-04 7.5355632e-04 7.5355632e-04]\n",
      "   [1.3840831e-03 1.3840831e-03 1.3840831e-03]\n",
      "   [1.5993848e-03 1.5993848e-03 1.5993848e-03]\n",
      "   ...\n",
      "   [1.1380239e-03 1.1380239e-03 1.1380239e-03]\n",
      "   [1.5840061e-03 1.5840061e-03 1.5840061e-03]\n",
      "   [1.4455979e-03 1.4455979e-03 1.4455979e-03]]\n",
      "\n",
      "  ...\n",
      "\n",
      "  [[0.0000000e+00 0.0000000e+00 0.0000000e+00]\n",
      "   [1.3533257e-03 1.3533257e-03 1.3533257e-03]\n",
      "   [2.0915035e-03 2.0915035e-03 2.0915035e-03]\n",
      "   ...\n",
      "   [6.4590544e-04 6.4590544e-04 6.4590544e-04]\n",
      "   [0.0000000e+00 0.0000000e+00 0.0000000e+00]\n",
      "   [0.0000000e+00 0.0000000e+00 0.0000000e+00]]\n",
      "\n",
      "  [[0.0000000e+00 0.0000000e+00 0.0000000e+00]\n",
      "   [1.4148405e-03 1.4148405e-03 1.4148405e-03]\n",
      "   [2.0453674e-03 2.0453674e-03 2.0453674e-03]\n",
      "   ...\n",
      "   [6.9204153e-04 6.9204153e-04 6.9204153e-04]\n",
      "   [0.0000000e+00 0.0000000e+00 0.0000000e+00]\n",
      "   [0.0000000e+00 0.0000000e+00 0.0000000e+00]]\n",
      "\n",
      "  [[6.4590544e-04 6.4590544e-04 6.4590544e-04]\n",
      "   [1.5686274e-03 1.5686274e-03 1.5686274e-03]\n",
      "   [2.1068822e-03 2.1068822e-03 2.1068822e-03]\n",
      "   ...\n",
      "   [7.6893502e-04 7.6893502e-04 7.6893502e-04]\n",
      "   [0.0000000e+00 0.0000000e+00 0.0000000e+00]\n",
      "   [0.0000000e+00 0.0000000e+00 0.0000000e+00]]]\n",
      "\n",
      "\n",
      " [[[6.7666284e-04 6.7666284e-04 6.7666284e-04]\n",
      "   [5.9976935e-04 5.9976935e-04 5.9976935e-04]\n",
      "   [2.3068051e-04 2.3068051e-04 2.3068051e-04]\n",
      "   ...\n",
      "   [8.7658595e-04 8.7658595e-04 8.7658595e-04]\n",
      "   [5.0749717e-04 5.0749717e-04 5.0749717e-04]\n",
      "   [4.1522493e-04 4.1522493e-04 4.1522493e-04]]\n",
      "\n",
      "  [[6.1514805e-04 6.1514805e-04 6.1514805e-04]\n",
      "   [5.0749717e-04 5.0749717e-04 5.0749717e-04]\n",
      "   [0.0000000e+00 0.0000000e+00 0.0000000e+00]\n",
      "   ...\n",
      "   [8.4582856e-04 8.4582856e-04 8.4582856e-04]\n",
      "   [9.9961564e-04 9.9961564e-04 9.9961564e-04]\n",
      "   [3.8446751e-04 3.8446751e-04 3.8446751e-04]]\n",
      "\n",
      "  [[5.5363326e-04 5.5363326e-04 5.5363326e-04]\n",
      "   [1.0303730e-03 1.0303730e-03 1.0303730e-03]\n",
      "   [1.1072665e-03 1.1072665e-03 1.1072665e-03]\n",
      "   ...\n",
      "   [1.1072665e-03 1.1072665e-03 1.1072665e-03]\n",
      "   [9.6885813e-04 9.6885813e-04 9.6885813e-04]\n",
      "   [8.3044986e-04 8.3044986e-04 8.3044986e-04]]\n",
      "\n",
      "  ...\n",
      "\n",
      "  [[7.0742023e-04 7.0742023e-04 7.0742023e-04]\n",
      "   [1.1841600e-03 1.1841600e-03 1.1841600e-03]\n",
      "   [2.4759709e-03 2.4759709e-03 2.4759709e-03]\n",
      "   ...\n",
      "   [4.1522493e-04 4.1522493e-04 4.1522493e-04]\n",
      "   [7.0742023e-04 7.0742023e-04 7.0742023e-04]\n",
      "   [7.9969241e-04 7.9969241e-04 7.9969241e-04]]\n",
      "\n",
      "  [[6.9204153e-04 6.9204153e-04 6.9204153e-04]\n",
      "   [1.5224913e-03 1.5224913e-03 1.5224913e-03]\n",
      "   [2.7220300e-03 2.7220300e-03 2.7220300e-03]\n",
      "   ...\n",
      "   [1.0457517e-03 1.0457517e-03 1.0457517e-03]\n",
      "   [7.2279893e-04 7.2279893e-04 7.2279893e-04]\n",
      "   [8.1507111e-04 8.1507111e-04 8.1507111e-04]]\n",
      "\n",
      "  [[6.7666284e-04 6.7666284e-04 6.7666284e-04]\n",
      "   [1.8300654e-03 1.8300654e-03 1.8300654e-03]\n",
      "   [2.7527874e-03 2.7527874e-03 2.7527874e-03]\n",
      "   ...\n",
      "   [1.3994618e-03 1.3994618e-03 1.3994618e-03]\n",
      "   [6.9204153e-04 6.9204153e-04 6.9204153e-04]\n",
      "   [7.6893502e-04 7.6893502e-04 7.6893502e-04]]]\n",
      "\n",
      "\n",
      " ...\n",
      "\n",
      "\n",
      " [[[1.0918878e-03 1.0918878e-03 1.0918878e-03]\n",
      "   [1.3687044e-03 1.3687044e-03 1.3687044e-03]\n",
      "   [2.1068822e-03 2.1068822e-03 2.1068822e-03]\n",
      "   ...\n",
      "   [1.4455979e-03 1.4455979e-03 1.4455979e-03]\n",
      "   [1.1226452e-03 1.1226452e-03 1.1226452e-03]\n",
      "   [7.0742023e-04 7.0742023e-04 7.0742023e-04]]\n",
      "\n",
      "  [[9.8423695e-04 9.8423695e-04 9.8423695e-04]\n",
      "   [1.4148405e-03 1.4148405e-03 1.4148405e-03]\n",
      "   [2.0146100e-03 2.0146100e-03 2.0146100e-03]\n",
      "   ...\n",
      "   [1.4148405e-03 1.4148405e-03 1.4148405e-03]\n",
      "   [1.1995387e-03 1.1995387e-03 1.1995387e-03]\n",
      "   [5.8439065e-04 5.8439065e-04 5.8439065e-04]]\n",
      "\n",
      "  [[1.0149943e-03 1.0149943e-03 1.0149943e-03]\n",
      "   [1.4148405e-03 1.4148405e-03 1.4148405e-03]\n",
      "   [2.1068822e-03 2.1068822e-03 2.1068822e-03]\n",
      "   ...\n",
      "   [1.4763552e-03 1.4763552e-03 1.4763552e-03]\n",
      "   [1.2764322e-03 1.2764322e-03 1.2764322e-03]\n",
      "   [4.6136102e-04 4.6136102e-04 4.6136102e-04]]\n",
      "\n",
      "  ...\n",
      "\n",
      "  [[0.0000000e+00 0.0000000e+00 0.0000000e+00]\n",
      "   [6.1514809e-05 6.1514809e-05 6.1514809e-05]\n",
      "   [1.6147635e-03 1.6147635e-03 1.6147635e-03]\n",
      "   ...\n",
      "   [0.0000000e+00 0.0000000e+00 0.0000000e+00]\n",
      "   [0.0000000e+00 0.0000000e+00 0.0000000e+00]\n",
      "   [0.0000000e+00 0.0000000e+00 0.0000000e+00]]\n",
      "\n",
      "  [[0.0000000e+00 0.0000000e+00 0.0000000e+00]\n",
      "   [0.0000000e+00 0.0000000e+00 0.0000000e+00]\n",
      "   [1.6301422e-03 1.6301422e-03 1.6301422e-03]\n",
      "   ...\n",
      "   [0.0000000e+00 0.0000000e+00 0.0000000e+00]\n",
      "   [0.0000000e+00 0.0000000e+00 0.0000000e+00]\n",
      "   [0.0000000e+00 0.0000000e+00 0.0000000e+00]]\n",
      "\n",
      "  [[0.0000000e+00 0.0000000e+00 0.0000000e+00]\n",
      "   [3.0757405e-05 3.0757405e-05 3.0757405e-05]\n",
      "   [1.7839293e-03 1.7839293e-03 1.7839293e-03]\n",
      "   ...\n",
      "   [0.0000000e+00 0.0000000e+00 0.0000000e+00]\n",
      "   [0.0000000e+00 0.0000000e+00 0.0000000e+00]\n",
      "   [0.0000000e+00 0.0000000e+00 0.0000000e+00]]]\n",
      "\n",
      "\n",
      " [[[0.0000000e+00 0.0000000e+00 0.0000000e+00]\n",
      "   [0.0000000e+00 0.0000000e+00 0.0000000e+00]\n",
      "   [0.0000000e+00 0.0000000e+00 0.0000000e+00]\n",
      "   ...\n",
      "   [1.3071896e-03 1.3071896e-03 1.3071896e-03]\n",
      "   [1.0149943e-03 1.0149943e-03 1.0149943e-03]\n",
      "   [3.8446751e-04 3.8446751e-04 3.8446751e-04]]\n",
      "\n",
      "  [[0.0000000e+00 0.0000000e+00 0.0000000e+00]\n",
      "   [0.0000000e+00 0.0000000e+00 0.0000000e+00]\n",
      "   [0.0000000e+00 0.0000000e+00 0.0000000e+00]\n",
      "   ...\n",
      "   [1.2918109e-03 1.2918109e-03 1.2918109e-03]\n",
      "   [9.9961564e-04 9.9961564e-04 9.9961564e-04]\n",
      "   [1.5378701e-04 1.5378701e-04 1.5378701e-04]]\n",
      "\n",
      "  [[0.0000000e+00 0.0000000e+00 0.0000000e+00]\n",
      "   [0.0000000e+00 0.0000000e+00 0.0000000e+00]\n",
      "   [0.0000000e+00 0.0000000e+00 0.0000000e+00]\n",
      "   ...\n",
      "   [1.3225683e-03 1.3225683e-03 1.3225683e-03]\n",
      "   [1.0611304e-03 1.0611304e-03 1.0611304e-03]\n",
      "   [3.0757405e-05 3.0757405e-05 3.0757405e-05]]\n",
      "\n",
      "  ...\n",
      "\n",
      "  [[0.0000000e+00 0.0000000e+00 0.0000000e+00]\n",
      "   [0.0000000e+00 0.0000000e+00 0.0000000e+00]\n",
      "   [0.0000000e+00 0.0000000e+00 0.0000000e+00]\n",
      "   ...\n",
      "   [1.7224145e-03 1.7224145e-03 1.7224145e-03]\n",
      "   [0.0000000e+00 0.0000000e+00 0.0000000e+00]\n",
      "   [0.0000000e+00 0.0000000e+00 0.0000000e+00]]\n",
      "\n",
      "  [[0.0000000e+00 0.0000000e+00 0.0000000e+00]\n",
      "   [0.0000000e+00 0.0000000e+00 0.0000000e+00]\n",
      "   [0.0000000e+00 0.0000000e+00 0.0000000e+00]\n",
      "   ...\n",
      "   [1.5840061e-03 1.5840061e-03 1.5840061e-03]\n",
      "   [0.0000000e+00 0.0000000e+00 0.0000000e+00]\n",
      "   [0.0000000e+00 0.0000000e+00 0.0000000e+00]]\n",
      "\n",
      "  [[0.0000000e+00 0.0000000e+00 0.0000000e+00]\n",
      "   [0.0000000e+00 0.0000000e+00 0.0000000e+00]\n",
      "   [0.0000000e+00 0.0000000e+00 0.0000000e+00]\n",
      "   ...\n",
      "   [1.5993848e-03 1.5993848e-03 1.5993848e-03]\n",
      "   [1.8454441e-04 1.8454441e-04 1.8454441e-04]\n",
      "   [0.0000000e+00 0.0000000e+00 0.0000000e+00]]]\n",
      "\n",
      "\n",
      " [[[8.7658595e-04 8.7658595e-04 8.7658595e-04]\n",
      "   [1.1534026e-03 1.1534026e-03 1.1534026e-03]\n",
      "   [1.4609765e-03 1.4609765e-03 1.4609765e-03]\n",
      "   ...\n",
      "   [1.5378700e-03 1.5378700e-03 1.5378700e-03]\n",
      "   [1.1534026e-03 1.1534026e-03 1.1534026e-03]\n",
      "   [4.7673972e-04 4.7673972e-04 4.7673972e-04]]\n",
      "\n",
      "  [[7.2279893e-04 7.2279893e-04 7.2279893e-04]\n",
      "   [1.2918109e-03 1.2918109e-03 1.2918109e-03]\n",
      "   [1.4609765e-03 1.4609765e-03 1.4609765e-03]\n",
      "   ...\n",
      "   [1.5224913e-03 1.5224913e-03 1.5224913e-03]\n",
      "   [8.4582856e-04 8.4582856e-04 8.4582856e-04]\n",
      "   [3.8446751e-04 3.8446751e-04 3.8446751e-04]]\n",
      "\n",
      "  [[6.1514805e-04 6.1514805e-04 6.1514805e-04]\n",
      "   [1.2918109e-03 1.2918109e-03 1.2918109e-03]\n",
      "   [1.6147635e-03 1.6147635e-03 1.6147635e-03]\n",
      "   ...\n",
      "   [1.5378700e-03 1.5378700e-03 1.5378700e-03]\n",
      "   [8.9196465e-04 8.9196465e-04 8.9196465e-04]\n",
      "   [1.6916571e-04 1.6916571e-04 1.6916571e-04]]\n",
      "\n",
      "  ...\n",
      "\n",
      "  [[2.9219533e-04 2.9219533e-04 2.9219533e-04]\n",
      "   [0.0000000e+00 0.0000000e+00 0.0000000e+00]\n",
      "   [3.0757402e-04 3.0757402e-04 3.0757402e-04]\n",
      "   ...\n",
      "   [6.1514805e-04 6.1514805e-04 6.1514805e-04]\n",
      "   [0.0000000e+00 0.0000000e+00 0.0000000e+00]\n",
      "   [0.0000000e+00 0.0000000e+00 0.0000000e+00]]\n",
      "\n",
      "  [[3.3833142e-04 3.3833142e-04 3.3833142e-04]\n",
      "   [0.0000000e+00 0.0000000e+00 0.0000000e+00]\n",
      "   [1.8454441e-04 1.8454441e-04 1.8454441e-04]\n",
      "   ...\n",
      "   [6.7666284e-04 6.7666284e-04 6.7666284e-04]\n",
      "   [0.0000000e+00 0.0000000e+00 0.0000000e+00]\n",
      "   [0.0000000e+00 0.0000000e+00 0.0000000e+00]]\n",
      "\n",
      "  [[4.3060363e-04 4.3060363e-04 4.3060363e-04]\n",
      "   [0.0000000e+00 0.0000000e+00 0.0000000e+00]\n",
      "   [2.4605924e-04 2.4605924e-04 2.4605924e-04]\n",
      "   ...\n",
      "   [7.5355632e-04 7.5355632e-04 7.5355632e-04]\n",
      "   [0.0000000e+00 0.0000000e+00 0.0000000e+00]\n",
      "   [0.0000000e+00 0.0000000e+00 0.0000000e+00]]]]\n"
     ]
    }
   ],
   "source": [
    "#convert data to numpy array \n",
    "\n",
    "image_data = np.array(image_data, dtype='float32')/255.0\n",
    "labels = np.array(labels)\n",
    "\n",
    "print(image_data.shape, labels.shape)\n",
    "print(image_data)"
   ]
  },
  {
   "cell_type": "code",
   "execution_count": 7,
   "metadata": {},
   "outputs": [],
   "source": [
    "\n",
    "## Randomly shuffle data\n",
    "\n",
    "import random \n",
    "combined = list(zip(image_data, labels))\n",
    "random.shuffle(combined)\n",
    "\n",
    "image_data[:], labels[:] = zip(*combined)"
   ]
  },
  {
   "cell_type": "code",
   "execution_count": 8,
   "metadata": {},
   "outputs": [
    {
     "data": {
      "image/png": "[encoded data removed]",
      "text/plain": [
       "<Figure size 432x288 with 1 Axes>"
      ]
     },
     "metadata": {
      "needs_background": "light"
     },
     "output_type": "display_data"
    },
    {
     "data": {
      "image/png": "[encoded data removed]",
      "text/plain": [
       "<Figure size 432x288 with 1 Axes>"
      ]
     },
     "metadata": {
      "needs_background": "light"
     },
     "output_type": "display_data"
    },
    {
     "data": {
      "image/png": "[encoded data removed]",
      "text/plain": [
       "<Figure size 432x288 with 1 Axes>"
      ]
     },
     "metadata": {
      "needs_background": "light"
     },
     "output_type": "display_data"
    },
    {
     "data": {
      "image/png": "[encoded data removed]",
      "text/plain": [
       "<Figure size 432x288 with 1 Axes>"
      ]
     },
     "metadata": {
      "needs_background": "light"
     },
     "output_type": "display_data"
    },
    {
     "data": {
      "image/png": "[encoded data removed]",
      "text/plain": [
       "<Figure size 432x288 with 1 Axes>"
      ]
     },
     "metadata": {
      "needs_background": "light"
     },
     "output_type": "display_data"
    },
    {
     "data": {
      "image/png": "[encoded data removed]",
      "text/plain": [
       "<Figure size 432x288 with 1 Axes>"
      ]
     },
     "metadata": {
      "needs_background": "light"
     },
     "output_type": "display_data"
    },
    {
     "data": {
      "image/png": "[encoded data removed]",
      "text/plain": [
       "<Figure size 432x288 with 1 Axes>"
      ]
     },
     "metadata": {
      "needs_background": "light"
     },
     "output_type": "display_data"
    },
    {
     "data": {
      "image/png": "[encoded data removed]",
      "text/plain": [
       "<Figure size 432x288 with 1 Axes>"
      ]
     },
     "metadata": {
      "needs_background": "light"
     },
     "output_type": "display_data"
    },
    {
     "data": {
      "image/png": "[encoded data removed]",
      "text/plain": [
       "<Figure size 432x288 with 1 Axes>"
      ]
     },
     "metadata": {
      "needs_background": "light"
     },
     "output_type": "display_data"
    },
    {
     "data": {
      "image/png": "[encoded data removed]",
      "text/plain": [
       "<Figure size 432x288 with 1 Axes>"
      ]
     },
     "metadata": {
      "needs_background": "light"
     },
     "output_type": "display_data"
    }
   ],
   "source": [
    "\n",
    "## Visualize the data\n",
    "\n",
    "def drawImg(img):\n",
    "    import matplotlib.pyplot as plt\n",
    "    plt.imshow(img)\n",
    "    plt.axis('off')\n",
    "    plt.show()\n",
    "    return\n",
    "\n",
    "for i in range(10):\n",
    "    drawImg(image_data[i])"
   ]
  },
  {
   "cell_type": "code",
   "execution_count": null,
   "metadata": {},
   "outputs": [],
   "source": []
  }
 ],
 "metadata": {
  "kernelspec": {
   "display_name": "Python 3",
   "language": "python",
   "name": "python3"
  },
  "language_info": {
   "codemirror_mode": {
    "name": "ipython",
    "version": 3
   },
   "file_extension": ".py",
   "mimetype": "text/x-python",
   "name": "python",
   "nbconvert_exporter": "python",
   "pygments_lexer": "ipython3",
   "version": "3.7.3"
  }
 },
 "nbformat": 4,
 "nbformat_minor": 2
}
